{
 "cells": [
  {
   "cell_type": "code",
   "execution_count": 1,
   "id": "abf2d75e",
   "metadata": {},
   "outputs": [],
   "source": [
    "import pandas as pd\n",
    "import numpy as np\n",
    "import matplotlib.pyplot as plt\n",
    "%matplotlib inline\n",
    "plt.style.use('ggplot')"
   ]
  },
  {
   "cell_type": "code",
   "execution_count": 2,
   "id": "c5b855d5",
   "metadata": {},
   "outputs": [
    {
     "data": {
      "text/html": [
       "<div>\n",
       "<style scoped>\n",
       "    .dataframe tbody tr th:only-of-type {\n",
       "        vertical-align: middle;\n",
       "    }\n",
       "\n",
       "    .dataframe tbody tr th {\n",
       "        vertical-align: top;\n",
       "    }\n",
       "\n",
       "    .dataframe thead th {\n",
       "        text-align: right;\n",
       "    }\n",
       "</style>\n",
       "<table border=\"1\" class=\"dataframe\">\n",
       "  <thead>\n",
       "    <tr style=\"text-align: right;\">\n",
       "      <th></th>\n",
       "      <th>website_name</th>\n",
       "      <th>text</th>\n",
       "    </tr>\n",
       "  </thead>\n",
       "  <tbody>\n",
       "    <tr>\n",
       "      <th>0</th>\n",
       "      <td>amazon</td>\n",
       "      <td>Oh and I forgot to also mention the weird colo...</td>\n",
       "    </tr>\n",
       "    <tr>\n",
       "      <th>1</th>\n",
       "      <td>amazon</td>\n",
       "      <td>THAT one didn't work either.</td>\n",
       "    </tr>\n",
       "    <tr>\n",
       "      <th>2</th>\n",
       "      <td>amazon</td>\n",
       "      <td>Waste of 13 bucks.</td>\n",
       "    </tr>\n",
       "    <tr>\n",
       "      <th>3</th>\n",
       "      <td>amazon</td>\n",
       "      <td>Product is useless, since it does not have eno...</td>\n",
       "    </tr>\n",
       "    <tr>\n",
       "      <th>4</th>\n",
       "      <td>amazon</td>\n",
       "      <td>None of the three sizes they sent with the hea...</td>\n",
       "    </tr>\n",
       "  </tbody>\n",
       "</table>\n",
       "</div>"
      ],
      "text/plain": [
       "  website_name                                               text\n",
       "0       amazon  Oh and I forgot to also mention the weird colo...\n",
       "1       amazon                       THAT one didn't work either.\n",
       "2       amazon                                 Waste of 13 bucks.\n",
       "3       amazon  Product is useless, since it does not have eno...\n",
       "4       amazon  None of the three sizes they sent with the hea..."
      ]
     },
     "execution_count": 2,
     "metadata": {},
     "output_type": "execute_result"
    }
   ],
   "source": [
    "x_train_raw = pd.read_csv('data/data_reviews/x_train.csv')\n",
    "y_train_raw = pd.read_csv('data/data_reviews/y_train.csv')\n",
    "x_test_raw = pd.read_csv('data/data_reviews/x_test.csv')\n",
    "x_train_raw.head()"
   ]
  },
  {
   "cell_type": "code",
   "execution_count": 70,
   "id": "24dcaba0-d6fd-4b94-aad7-cd8c8fe4c127",
   "metadata": {},
   "outputs": [],
   "source": [
    "import re\n",
    "import nltk\n",
    "# nltk.download('stopwords')\n",
    "# nltk.download('wordnet')\n",
    "# nltk.download('omw-1.4')\n",
    "# nltk.download('averaged_perceptron_tagger')\n",
    "from nltk.corpus import stopwords\n",
    "from nltk.stem import WordNetLemmatizer \n",
    "import string\n",
    "from contractions import contractions\n",
    "def remove_punctuation(text):\n",
    "    s = text.translate(str.maketrans('', '', string.punctuation))\n",
    "    removed_numbers = re.sub(\"\\S*\\d\\S*\", \"\", s).strip()\n",
    "    return removed_numbers\n",
    "\n",
    "def text_stemming(text):\n",
    "    stemmer = nltk.porter.PorterStemmer()\n",
    "    stemmed = ' '.join([stemmer.stem(token) for token in text.split()])\n",
    "    return stemmed\n",
    "\n",
    "def text_lemmatization(text):\n",
    "    lemmatizer = WordNetLemmatizer()\n",
    "    lemmatized_output = ' '.join([lemmatizer.lemmatize(w) for w in text.split()])\n",
    "    return lemmatized_output\n",
    "\n",
    "from spellchecker import SpellChecker\n",
    "\n",
    "spell = SpellChecker()\n",
    "\n",
    "def xstr(s):\n",
    "    return ['' if v is None else v for v in s]\n",
    "\n",
    "def correct_spellings(text):\n",
    "    corrected_text = []\n",
    "    misspelled_words = spell.unknown(text.split())\n",
    "    for word in text.split():\n",
    "        if word in misspelled_words:\n",
    "            corrected_text.append(spell.correction(word))\n",
    "        else:\n",
    "            corrected_text.append(word)\n",
    "    # print(corrected_text)\n",
    "    return \" \".join(xstr(corrected_text))\n",
    "        \n",
    "def make_lowercase(text):\n",
    "    lowered_output = ' '.join([w.lower() for w in text.split()])\n",
    "    return lowered_output\n",
    "\n",
    "def remove_proper_nouns(text):\n",
    "    tagged_sentence = nltk.tag.pos_tag(text.split())\n",
    "    edited_sentence = [word for word,tag in tagged_sentence if tag != 'NNP' and tag != 'NNPS' and tag!= 'PRON']\n",
    "    edited_text = ' '.join(w for w in edited_sentence)\n",
    "    return edited_text\n",
    "\n",
    "def expand_contractions(text):\n",
    "    text = text.split()\n",
    "    new_text = []\n",
    "    for word in text:\n",
    "        if word in contractions:\n",
    "            new_text.append(contractions[word])\n",
    "        else:\n",
    "            new_text.append(word)\n",
    "    text = \" \".join(new_text)\n",
    "    return text\n",
    "\n",
    "stop_words = stopwords.words('english')\n",
    "def remove_stopwords(text):\n",
    "    edited_text = ' '.join(w for w in text.split() if w not in stop_words)\n",
    "    return edited_text\n",
    "\n",
    "def clean_reviews_fn(reviews):\n",
    "#     reviews = x_train_raw['text'].values\n",
    "    clean_reviews = []\n",
    "    for r in reviews:\n",
    "        lowercase_review = make_lowercase(r)\n",
    "        remove_punc = remove_punctuation(lowercase_review)\n",
    "        # remove_stop = remove_stopwords(remove_punc)\n",
    "        lemmatize_review = text_lemmatization(remove_punc)\n",
    "        spell_review = correct_spellings(lemmatize_review)\n",
    "        clean_reviews.append(spell_review)\n",
    "    \n",
    "    return clean_reviews"
   ]
  },
  {
   "cell_type": "code",
   "execution_count": 71,
   "id": "97e7d1ef-b081-4f6d-9dc3-843ba64d7297",
   "metadata": {},
   "outputs": [],
   "source": [
    "x_train_cleaned = clean_reviews_fn(x_train_raw['text'].values)\n",
    "x_test_cleaned = clean_reviews_fn(x_test_raw['text'].values)"
   ]
  },
  {
   "cell_type": "code",
   "execution_count": 73,
   "id": "ebe10116",
   "metadata": {},
   "outputs": [],
   "source": [
    "from keras.preprocessing.text import Tokenizer\n",
    "from tensorflow.keras.preprocessing.sequence import pad_sequences\n",
    "from keras.layers import Embedding, Flatten, GlobalMaxPool1D\n",
    "from sklearn.model_selection import train_test_split"
   ]
  },
  {
   "cell_type": "code",
   "execution_count": 74,
   "id": "ec1eb386-ce94-4558-8d4b-624a47c4e862",
   "metadata": {},
   "outputs": [],
   "source": [
    "from keras.models import Sequential\n",
    "from keras.layers import Dense\n",
    "from keras.layers import Conv1D\n",
    "def create_NN_model(vocab_size,maxlen):\n",
    "    embedding_dim = 50\n",
    "    model = Sequential()\n",
    "    model.add(Embedding(input_dim=vocab_size, \n",
    "                               output_dim=embedding_dim, \n",
    "                               input_length=maxlen))\n",
    "    model.add(GlobalMaxPool1D())\n",
    "    model.add(Dense(10, activation='relu'))\n",
    "    model.add(Dense(1, activation='sigmoid'))\n",
    "    model.compile(optimizer='adam',\n",
    "              loss='binary_crossentropy',\n",
    "              metrics=['accuracy'])\n",
    "    return model"
   ]
  },
  {
   "cell_type": "code",
   "execution_count": 75,
   "id": "c4ae809a-8985-4f2c-9a37-f2b51c07432c",
   "metadata": {},
   "outputs": [],
   "source": [
    "df_tr_cleaned = pd.DataFrame (x_train_cleaned, columns = ['text'])\n",
    "df_te_cleaned = pd.DataFrame (x_test_cleaned, columns = ['text'])"
   ]
  },
  {
   "cell_type": "code",
   "execution_count": 77,
   "id": "d0aebb66",
   "metadata": {},
   "outputs": [
    {
     "name": "stdout",
     "output_type": "stream",
     "text": [
      "10-Fold Cross-Validation Avg. Error Rate: 0.183 +/- 0.024\n"
     ]
    }
   ],
   "source": [
    "from sklearn.model_selection import KFold\n",
    "from keras.preprocessing.text import Tokenizer\n",
    "from tensorflow.keras.preprocessing.sequence import pad_sequences\n",
    "from sklearn.feature_extraction.text import CountVectorizer\n",
    "\n",
    "cv = KFold(n_splits=10, random_state=1, shuffle=True)\n",
    "\n",
    "scores = []\n",
    "tr_scores = []\n",
    "kfold = cv.split(x_train_cleaned, y_train_raw['is_positive_sentiment'].values)\n",
    "for k, (train, test) in enumerate(kfold):\n",
    "\n",
    "    sentences_train = df_tr_cleaned.iloc[train, :]['text']\n",
    "    sentences_test = df_tr_cleaned.iloc[test, :]['text']\n",
    "\n",
    "    labels_train = y_train_raw.iloc[train,:]['is_positive_sentiment']\n",
    "    labels_test = y_train_raw.iloc[test,:]['is_positive_sentiment']\n",
    "\n",
    "    tokenizer = Tokenizer(num_words=5000,)\n",
    "    tokenizer.fit_on_texts(sentences_train)\n",
    "\n",
    "    X_train = tokenizer.texts_to_sequences(sentences_train)\n",
    "    X_test = tokenizer.texts_to_sequences(sentences_test)\n",
    "\n",
    "    vocab_size = len(tokenizer.word_index)+1\n",
    "\n",
    "    maxlen = 65\n",
    "    X_train = pad_sequences(X_train, padding='post', maxlen=maxlen)\n",
    "    X_test  = pad_sequences(X_test,  padding='post', maxlen=maxlen)\n",
    "\n",
    "    model = create_NN_model_with_optimizer(vocab_size,maxlen,lr=1E-3)\n",
    "    history = model.fit(X_train, labels_train,\n",
    "                    epochs=50,\n",
    "                    verbose=0,\n",
    "                    validation_data=(X_test, labels_test),\n",
    "                    batch_size=100)\n",
    "\n",
    "    loss, tr_accuracy = model.evaluate(X_train, labels_train, verbose=False)\n",
    "    # print(\"Training Accuracy: {:.4f}\".format(accuracy))\n",
    "    loss, te_accuracy = model.evaluate(X_test, labels_test, verbose=False)\n",
    "    # print(\"Testing Accuracy:  {:.4f}\".format(accuracy))\n",
    "\n",
    "    scores.append(1-tr_accuracy)\n",
    "    tr_scores.append(1-te_accuracy)\n",
    "# print('Fold (%d) Cross-Validation accuracy: %.3f +/- %.3f' %(k,1-np.mean(tr_scores), 1-np.std(tr_scores)))\n",
    "    # print('Fold: %2d, Training/Test Split Distribution: %s, Train Error Rate: %.3f,Test Error Rate: %.3f' % (k+1, np.bincount(y_train_raw['is_positive_sentiment'].iloc[train]), 1-tr_accuracy,1-te_accuracy))\n",
    "\n",
    "print('10-Fold Cross-Validation Avg. Error Rate: %.3f +/- %.3f' %(np.mean(tr_scores), np.std(tr_scores)))\n"
   ]
  },
  {
   "cell_type": "code",
   "execution_count": 62,
   "id": "7651368d-bdf0-4087-8ab3-60b20fe02967",
   "metadata": {},
   "outputs": [],
   "source": [
    "sentences_train, sentences_test, labels_train, labels_test = train_test_split(df_tr_cleaned['text'],y_train_raw['is_positive_sentiment'], test_size = 0.2, random_state = 42)\n",
    "tokenizer = Tokenizer(num_words=5000)\n",
    "tokenizer.fit_on_texts(sentences_train)\n",
    "\n",
    "X_train = tokenizer.texts_to_sequences(sentences_train)\n",
    "X_test = tokenizer.texts_to_sequences(sentences_test)\n",
    "\n",
    "vocab_size = len(tokenizer.word_index)+1\n",
    "maxlen = 50\n",
    "X_train = pad_sequences(X_train, padding='post', maxlen=maxlen)\n",
    "X_test  = pad_sequences(X_test,  padding='post', maxlen=maxlen)\n",
    "\n",
    "model = create_NN_model_with_optimizer(vocab_size,maxlen,lr=1E-3)"
   ]
  },
  {
   "cell_type": "code",
   "execution_count": 63,
   "id": "193ed383-281c-4f56-8b63-417665c7de80",
   "metadata": {},
   "outputs": [],
   "source": [
    "history = model.fit(X_train, labels_train,\n",
    "                    epochs=50,\n",
    "                    verbose=0,\n",
    "                    validation_data=(X_test, labels_test),\n",
    "                    batch_size=100)"
   ]
  },
  {
   "cell_type": "code",
   "execution_count": 64,
   "id": "12f38dfc-ee1a-4467-880f-4d22026675ce",
   "metadata": {},
   "outputs": [
    {
     "name": "stdout",
     "output_type": "stream",
     "text": [
      "15/15 [==============================] - 0s 2ms/step\n",
      "After 80-20 split of Training Data\n",
      "Error Rate on Test Data:0.213\n",
      "CONFUSION MATRIX\n",
      "Predicted    0    1\n",
      "True               \n",
      "0          183   54\n",
      "1           48  195\n"
     ]
    }
   ],
   "source": [
    "predict_proba = model.predict(X_test)\n",
    "predictions = (predict_proba > 0.5).astype(\"int32\")\n",
    "from sklearn.metrics import confusion_matrix,accuracy_score\n",
    "print('After 80-20 split of Training Data')\n",
    "print('Error Rate on Test Data:%.3f'% (1-accuracy_score(labels_test,predictions.flatten())))\n",
    "print('CONFUSION MATRIX')\n",
    "cm = confusion_matrix(labels_test,predictions.flatten())\n",
    "cm_df = pd.DataFrame(data=cm, columns=[0, 1], index=[0, 1])\n",
    "cm_df.columns.name = 'Predicted'\n",
    "cm_df.index.name = 'True'\n",
    "print(cm_df)"
   ]
  },
  {
   "cell_type": "code",
   "execution_count": 78,
   "id": "8f4df37a-bb3c-49fb-94c5-90572ddfcc2c",
   "metadata": {},
   "outputs": [
    {
     "name": "stdout",
     "output_type": "stream",
     "text": [
      "19/19 [==============================] - 0s 1ms/step\n"
     ]
    }
   ],
   "source": [
    "sentences_test = df_te_cleaned['text']\n",
    "X_test = tokenizer.texts_to_sequences(sentences_test)\n",
    "X_test  = pad_sequences(X_test,  padding='post', maxlen=maxlen)\n",
    "y_predict = model.predict(X_test)\n",
    "\n",
    "yproba1_test = y_predict.flatten()\n",
    "np.savetxt('yproba1_test.txt', yproba1_test)"
   ]
  },
  {
   "cell_type": "code",
   "execution_count": 72,
   "id": "e6e9ac6f-905d-45c9-86ce-e5688c519e99",
   "metadata": {},
   "outputs": [
    {
     "name": "stdout",
     "output_type": "stream",
     "text": [
      "Positive Review Misclassified as Negative\n",
      "\n",
      "\n",
      "highly recommended age although younger set probably appreciate subtle reference certainly appreciate one galley scene particular\n",
      "advise look\n",
      "def coming back bowl next time\n",
      "place\n",
      "convenient simple use get job done make car ride much smoother\n",
      "someone shouldve invented sooner\n",
      "performed\n",
      "rare filmmaker take time tell worthy moral tale care love doesn't fall trap overly syrupy indulgent\n",
      "recommend go anyone different brand cell player family\n",
      "last night second time dining happy decided go back\n",
      "get job done\n",
      "happy complaint one regarding sound quality end\n",
      "want healthy authentic ethic food try place\n",
      "never forget\n",
      "film sole bright spot jonah hill look almost unrecognizable fan recent superb due amount weight lost interim\n",
      "sad movie good\n",
      "battery working well replacement original came phone year ago\n",
      "simple use like\n",
      "good thing waiter helpful kept bloody mary coming\n",
      "would casted role ready script\n",
      "anyone right mind ask anything movie\n",
      "use smallest earpiece provided stay pretty well\n",
      "car charger well ac charger included make sure never run  recommended\n",
      "much better hard plastic case\n",
      "worth every penny\n",
      "early film future  lucid fuck good addition gallo \n",
      "lighting dark enough set mood\n",
      "work like charm work advertised\n",
      "world better garbage theatre today\n",
      "isn't small family restaurant fine dining establishment\n",
      "im still infatuated phone\n",
      "would give television series plus could\n",
      "better expected\n",
      "monster chicken fried steak egg time favorite\n",
      "one movie need see whenever come never mind fact already memorized\n",
      "feature want\n",
      "trying many many  gadget one finally work well\n",
      "fast service\n",
      "understated film leaf lasting impression\n",
      "table service pretty fast\n",
      "ever movie needed  promote\n",
      "complaint\n",
      "keep getting better better third one ive numerous palm\n",
      "spoiler whatever else cant said surface superbly crafted\n",
      "get extra minute carry call get cut\n",
      "exchanged sony prison im pretty happy decision\n",
      "work\n",
      "cant say enough good thing place\n"
     ]
    }
   ],
   "source": [
    "print('Positive Review Misclassified as Negative\\n\\n')\n",
    "for p,r,s in zip(predictions.flatten(),labels_test,sentences_test):\n",
    "    if p!=r and p==0:\n",
    "        print(s)"
   ]
  },
  {
   "cell_type": "code",
   "execution_count": null,
   "id": "720f027b-0302-497e-93a6-f4863d1f3229",
   "metadata": {},
   "outputs": [],
   "source": [
    "fig = plt.figure()\n",
    "ax = plt.axes()\n",
    "ax.plot(list(range(1,11)), scores,label='Train',marker='o')\n",
    "ax.plot(list(range(1,11)),tr_scores,label='Test',marker='o')\n",
    "# ax.plot(alpha_vals, test_error_avg, label='Test')\n",
    "# ax.set_xscale('log')\n",
    "ax.set_xticks(list(range(1,11)))\n",
    "ax.set_title('Effect of 10-Fold Cross Validation on Error Rate', fontweight =\"bold\")\n",
    "ax.set_xlabel('Fold')\n",
    "ax.set_ylabel('Error Rate')\n",
    "# ax.grid(which='major')\n",
    "ax.legend(loc='center right')"
   ]
  },
  {
   "cell_type": "code",
   "execution_count": 9,
   "id": "0322d9ad-ccd1-453d-b83a-9cb962a6eee1",
   "metadata": {},
   "outputs": [
    {
     "name": "stdout",
     "output_type": "stream",
     "text": [
      "No.of Epochs: 10\n",
      "Batch Size (10) 10-Fold Cross-Validation Avg Error Rate: 0.184 +/- 0.019\n",
      "Batch Size (20) 10-Fold Cross-Validation Avg Error Rate: 0.176 +/- 0.021\n",
      "Batch Size (40) 10-Fold Cross-Validation Avg Error Rate: 0.172 +/- 0.021\n",
      "Batch Size (60) 10-Fold Cross-Validation Avg Error Rate: 0.170 +/- 0.017\n",
      "Batch Size (80) 10-Fold Cross-Validation Avg Error Rate: 0.168 +/- 0.016\n",
      "Batch Size (100) 10-Fold Cross-Validation Avg Error Rate: 0.166 +/- 0.016\n",
      "No.of Epochs: 50\n",
      "Batch Size (10) 10-Fold Cross-Validation Avg Error Rate: 0.193 +/- 0.021\n",
      "Batch Size (20) 10-Fold Cross-Validation Avg Error Rate: 0.188 +/- 0.017\n",
      "Batch Size (40) 10-Fold Cross-Validation Avg Error Rate: 0.188 +/- 0.014\n",
      "Batch Size (60) 10-Fold Cross-Validation Avg Error Rate: 0.181 +/- 0.026\n",
      "Batch Size (80) 10-Fold Cross-Validation Avg Error Rate: 0.178 +/- 0.016\n",
      "Batch Size (100) 10-Fold Cross-Validation Avg Error Rate: 0.183 +/- 0.018\n",
      "No.of Epochs: 100\n",
      "Batch Size (10) 10-Fold Cross-Validation Avg Error Rate: 0.200 +/- 0.020\n",
      "Batch Size (20) 10-Fold Cross-Validation Avg Error Rate: 0.190 +/- 0.028\n",
      "Batch Size (40) 10-Fold Cross-Validation Avg Error Rate: 0.186 +/- 0.026\n",
      "Batch Size (60) 10-Fold Cross-Validation Avg Error Rate: 0.180 +/- 0.020\n",
      "Batch Size (80) 10-Fold Cross-Validation Avg Error Rate: 0.183 +/- 0.019\n",
      "Batch Size (100) 10-Fold Cross-Validation Avg Error Rate: 0.190 +/- 0.021\n"
     ]
    }
   ],
   "source": [
    "from sklearn.model_selection import KFold\n",
    "from keras.preprocessing.text import Tokenizer\n",
    "from tensorflow.keras.preprocessing.sequence import pad_sequences\n",
    "from sklearn.feature_extraction.text import CountVectorizer\n",
    "\n",
    "batch_size = [10, 20, 40, 60, 80, 100]\n",
    "epochs = [10, 50, 100]\n",
    "\n",
    "for e in epochs:\n",
    "    print('No.of Epochs: %d'%e)\n",
    "    for b in batch_size:\n",
    "        cv = KFold(n_splits=10, random_state=1, shuffle=True)\n",
    "        scores = []\n",
    "        tr_scores = []\n",
    "        kfold = cv.split(x_train_cleaned, y_train_raw['is_positive_sentiment'].values)\n",
    "        for k, (train, test) in enumerate(kfold):\n",
    "\n",
    "            sentences_train = df_tr_cleaned.iloc[train, :]['text']\n",
    "            sentences_test = df_tr_cleaned.iloc[test, :]['text']\n",
    "\n",
    "            labels_train = y_train_raw.iloc[train,:]['is_positive_sentiment']\n",
    "            labels_test = y_train_raw.iloc[test,:]['is_positive_sentiment']\n",
    "\n",
    "            tokenizer = Tokenizer(num_words=5000)\n",
    "            tokenizer.fit_on_texts(sentences_train)\n",
    "\n",
    "            X_train = tokenizer.texts_to_sequences(sentences_train)\n",
    "            X_test = tokenizer.texts_to_sequences(sentences_test)\n",
    "\n",
    "            vocab_size = len(tokenizer.word_index)+1\n",
    "\n",
    "            maxlen = 50\n",
    "            X_train = pad_sequences(X_train, padding='post', maxlen=maxlen)\n",
    "            X_test  = pad_sequences(X_test,  padding='post', maxlen=maxlen)\n",
    "\n",
    "            model = create_NN_model(vocab_size,maxlen)\n",
    "            history = model.fit(X_train, labels_train,\n",
    "                            epochs=e,\n",
    "                            verbose=0,\n",
    "                            validation_data=(X_test, labels_test),\n",
    "                            batch_size=b)\n",
    "\n",
    "            loss, tr_accuracy = model.evaluate(X_train, labels_train, verbose=False)\n",
    "            # print(\"Training Accuracy: {:.4f}\".format(accuracy))\n",
    "            loss, te_accuracy = model.evaluate(X_test, labels_test, verbose=False)\n",
    "            # print(\"Testing Accuracy:  {:.4f}\".format(accuracy))\n",
    "\n",
    "            scores.append(1-tr_accuracy)\n",
    "            tr_scores.append(1-te_accuracy)\n",
    "        print('Batch Size (%d) 10-Fold Cross-Validation Avg Error Rate: %.3f +/- %.3f' %(b,np.mean(tr_scores), np.std(tr_scores)))\n",
    "            # print('Fold: %2d, Training/Test Split Distribution: %s, Train Accuracy: %.3f,Test Accuracy: %.3f' % (k+1, np.bincount(y_train_raw['is_positive_sentiment'].iloc[train]), tr_accuracy,te_accuracy))\n",
    "\n",
    "# print('\\n\\nCross-Validation accuracy: %.3f +/- %.3f' %(np.mean(tr_scores), np.std(tr_scores)))\n",
    "    "
   ]
  },
  {
   "cell_type": "code",
   "execution_count": 14,
   "id": "799f4d6a-ff9a-4285-8505-733bbc834487",
   "metadata": {},
   "outputs": [],
   "source": [
    "def create_NN_model_with_optimizer(vocab_size,maxlen,lr):\n",
    "    embedding_dim = 50\n",
    "    model = Sequential()\n",
    "    model.add(Embedding(input_dim=vocab_size, \n",
    "                               output_dim=embedding_dim, \n",
    "                               input_length=maxlen))\n",
    "    model.add(GlobalMaxPool1D())\n",
    "    model.add(Dense(10, activation='relu'))\n",
    "    model.add(Dense(1, activation='sigmoid'))\n",
    "    model.compile(optimizer=Adam(learning_rate=lr),\n",
    "              loss='binary_crossentropy',\n",
    "              metrics=['accuracy'])\n",
    "    return model"
   ]
  },
  {
   "cell_type": "code",
   "execution_count": 13,
   "id": "c4312364-31b3-457c-bca0-48f619967644",
   "metadata": {},
   "outputs": [
    {
     "name": "stdout",
     "output_type": "stream",
     "text": [
      "Optimizer (adam) Avg 10-Fold Cross-Validation Error Rate: 0.150 +/- 0.000\n",
      "Optimizer (RMSprop) Avg 10-Fold Cross-Validation Error Rate: 0.163 +/- 0.000\n",
      "Optimizer (sgd) Avg 10-Fold Cross-Validation Error Rate: 0.471 +/- 0.000\n",
      "Optimizer (Adamax) Avg 10-Fold Cross-Validation Error Rate: 0.217 +/- 0.000\n",
      "Optimizer (Ftrl) Avg 10-Fold Cross-Validation Error Rate: 0.546 +/- 0.000\n"
     ]
    },
    {
     "data": {
      "text/plain": [
       "<Figure size 1080x1080 with 0 Axes>"
      ]
     },
     "metadata": {},
     "output_type": "display_data"
    }
   ],
   "source": [
    "from sklearn.model_selection import KFold\n",
    "from keras.preprocessing.text import Tokenizer\n",
    "from tensorflow.keras.preprocessing.sequence import pad_sequences\n",
    "from sklearn.feature_extraction.text import CountVectorizer\n",
    "from keras.optimizers import Adam\n",
    "\n",
    "def create_NN_model_with_optimizer(vocab_size,maxlen,lr):\n",
    "    embedding_dim = 50\n",
    "    model = Sequential()\n",
    "    model.add(Embedding(input_dim=vocab_size, \n",
    "                               output_dim=embedding_dim, \n",
    "                               input_length=maxlen))\n",
    "    model.add(GlobalMaxPool1D())\n",
    "    model.add(Dense(10, activation='relu'))\n",
    "    model.add(Dense(1, activation='sigmoid'))\n",
    "    model.compile(optimizer=Adam(learning_rate=lr),\n",
    "              loss='binary_crossentropy',\n",
    "              metrics=['accuracy'])\n",
    "    return model\n",
    "\n",
    "# learning_rates = [1E-0, 1E-1, 1E-2, 1E-3, 1E-4, 1E-5, 1E-6, 1E-7]\n",
    "optimizers = ['adam','RMSprop','sgd','Adamax','Ftrl']\n",
    "tr_reg_er = []\n",
    "te_reg_er = []\n",
    "fig = plt.figure(figsize=(15,15))\n",
    "for o in range(len(optimizers)):\n",
    "    cv = KFold(n_splits=10, random_state=1, shuffle=True)\n",
    "    scores = []\n",
    "    tr_scores = []\n",
    "    kfold = cv.split(x_train_cleaned, y_train_raw['is_positive_sentiment'].values)\n",
    "    for k, (train, test) in enumerate(kfold):\n",
    "        if k == 1:\n",
    "            sentences_train = df_tr_cleaned.iloc[train, :]['text']\n",
    "            sentences_test = df_tr_cleaned.iloc[test, :]['text']\n",
    "\n",
    "            labels_train = y_train_raw.iloc[train,:]['is_positive_sentiment']\n",
    "            labels_test = y_train_raw.iloc[test,:]['is_positive_sentiment']\n",
    "\n",
    "            tokenizer = Tokenizer(num_words=5000)\n",
    "            tokenizer.fit_on_texts(sentences_train)\n",
    "\n",
    "            X_train = tokenizer.texts_to_sequences(sentences_train)\n",
    "            X_test = tokenizer.texts_to_sequences(sentences_test)\n",
    "\n",
    "            vocab_size = len(tokenizer.word_index)+1\n",
    "\n",
    "            maxlen = 65\n",
    "            X_train = pad_sequences(X_train, padding='post', maxlen=maxlen)\n",
    "            X_test  = pad_sequences(X_test,  padding='post', maxlen=maxlen)\n",
    "\n",
    "            model = create_NN_model_with_optimizer(vocab_size,maxlen,optimizers[o])\n",
    "            history = model.fit(X_train, labels_train,\n",
    "                            epochs=20,\n",
    "                            verbose=0,\n",
    "                            validation_data=(X_test, labels_test),\n",
    "                            batch_size=100)\n",
    "            plt.plot(history.history['accuracy'], label='Train')\n",
    "            plt.plot(history.history['val_accuracy'], label='Test')\n",
    "            # plt.title('Learning Rate:'+str(learning_rates[i])+' Test Accuracy:%.3f'%(te_accuracy))\n",
    "            loss, tr_accuracy = model.evaluate(X_train, labels_train, verbose=False)\n",
    "            # print(\"Training Accuracy: {:.4f}\".format(accuracy))\n",
    "            loss, te_accuracy = model.evaluate(X_test, labels_test, verbose=False)\n",
    "            # print(\"Testing Accuracy:  {:.4f}\".format(accuracy))\n",
    "            plot_no = 420 + (i+1)\n",
    "            plt.legend(loc='upper left')\n",
    "            plt.subplot(plot_no)\n",
    "\n",
    "            scores.append(1-tr_accuracy)\n",
    "            tr_scores.append(1-te_accuracy)\n",
    "    # print('Optimizer (%s) Avg 10-Fold Cross-Validation Error Rate: %.3f +/- %.3f' %(optimizers[o],np.mean(tr_scores), np.std(tr_scores)))\n",
    "    tr_reg_er.append(np.mean(scores))\n",
    "    te_reg_er.append(np.mean(tr_scores))\n",
    "plt.show()        "
   ]
  },
  {
   "cell_type": "code",
   "execution_count": 39,
   "id": "78b38083-6977-46f0-9b53-972b48f6fc0c",
   "metadata": {},
   "outputs": [
    {
     "name": "stdout",
     "output_type": "stream",
     "text": [
      "Model: \"sequential_39\"\n",
      "_________________________________________________________________\n",
      " Layer (type)                Output Shape              Param #   \n",
      "=================================================================\n",
      " embedding_29 (Embedding)    (None, 100, 50)           184050    \n",
      "                                                                 \n",
      " global_max_pooling1d_29 (Gl  (None, 50)               0         \n",
      " obalMaxPooling1D)                                               \n",
      "                                                                 \n",
      " dense_88 (Dense)            (None, 10)                510       \n",
      "                                                                 \n",
      " dense_89 (Dense)            (None, 1)                 11        \n",
      "                                                                 \n",
      "=================================================================\n",
      "Total params: 184,571\n",
      "Trainable params: 184,571\n",
      "Non-trainable params: 0\n",
      "_________________________________________________________________\n"
     ]
    }
   ],
   "source": [
    "model.summary()"
   ]
  },
  {
   "cell_type": "code",
   "execution_count": 42,
   "id": "79829e07-689d-45c8-a6c0-f02cfdfe6288",
   "metadata": {},
   "outputs": [
    {
     "data": {
      "text/plain": [
       "<matplotlib.legend.Legend at 0x115d3497a00>"
      ]
     },
     "execution_count": 42,
     "metadata": {},
     "output_type": "execute_result"
    },
    {
     "data": {
      "image/png": "[encoded data removed]",
      "text/plain": [
       "<Figure size 576x396 with 1 Axes>"
      ]
     },
     "metadata": {},
     "output_type": "display_data"
    }
   ],
   "source": [
    "import seaborn as sns\n",
    "import matplotlib.pyplot as plt\n",
    "%matplotlib inline\n",
    "plt.style.use('seaborn') #\n",
    "sns.set_style('white')\n",
    "fig = plt.figure()\n",
    "ax = plt.axes()\n",
    "ax.plot(list(range(1,11)), [1-x for x in scores],label='Train',marker='o')\n",
    "ax.plot(list(range(1,11)), [1-x for x in tr_scores],label='Test',marker='o')\n",
    "# ax.plot(alpha_vals, test_error_avg, label='Test')\n",
    "# ax.set_xscale('log')\n",
    "ax.set_xticks(list(range(1,11)))\n",
    "ax.set_title('Effect of 10-Fold Cross Validation on Error Rate', fontweight =\"bold\")\n",
    "ax.set_xlabel('Fold')\n",
    "ax.set_ylabel('Error Rate')\n",
    "# ax.grid(which='major')\n",
    "ax.legend(loc='center right')"
   ]
  },
  {
   "cell_type": "code",
   "execution_count": 46,
   "id": "c82adf50-ce22-4bab-8005-853c2aa0135a",
   "metadata": {},
   "outputs": [
    {
     "name": "stdout",
     "output_type": "stream",
     "text": [
      "10-Fold Cross Validation (Sequential Neural Network)\n",
      "Avg. Training Error Rate: 0.000\n",
      "Avg. Testing Error Rate: 0.174\n"
     ]
    }
   ],
   "source": [
    "print('10-Fold Cross Validation (Sequential Neural Network)')\n",
    "print('Avg. Training Error Rate: %.3f'%(1-np.mean(scores)))\n",
    "print('Avg. Testing Error Rate: %.3f'%(1-np.mean(tr_scores)))"
   ]
  },
  {
   "cell_type": "code",
   "execution_count": 11,
   "id": "1143aa4e",
   "metadata": {},
   "outputs": [],
   "source": [
    "from keras.models import Sequential\n",
    "from keras.layers import Dense\n",
    "from keras.layers import Conv1D"
   ]
  },
  {
   "cell_type": "code",
   "execution_count": 12,
   "id": "29c108be",
   "metadata": {},
   "outputs": [
    {
     "name": "stdout",
     "output_type": "stream",
     "text": [
      "19/19 [==============================] - 0s 1ms/step\n"
     ]
    }
   ],
   "source": [
    "sentences_test = x_test_cleaned\n",
    "X_test = tokenizer.texts_to_sequences(df_te_cleaned['text'])\n",
    "X_test  = pad_sequences(X_test,  padding='post', maxlen=maxlen)\n",
    "y_predict = model.predict(X_test)"
   ]
  },
  {
   "cell_type": "code",
   "execution_count": 13,
   "id": "cc39987f",
   "metadata": {},
   "outputs": [],
   "source": [
    "yproba1_test = y_predict.flatten()\n",
    "np.savetxt('yproba1_test.txt', yproba1_test)"
   ]
  },
  {
   "cell_type": "code",
   "execution_count": 14,
   "id": "22070330",
   "metadata": {},
   "outputs": [
    {
     "data": {
      "text/plain": [
       "600"
      ]
     },
     "execution_count": 14,
     "metadata": {},
     "output_type": "execute_result"
    }
   ],
   "source": [
    "len(yproba1_test)"
   ]
  },
  {
   "cell_type": "code",
   "execution_count": 15,
   "id": "7611f76c-c797-4eb2-ac91-c6b4f8bf9e5b",
   "metadata": {},
   "outputs": [
    {
     "name": "stdout",
     "output_type": "stream",
     "text": [
      "Model: \"sequential_9\"\n",
      "_________________________________________________________________\n",
      " Layer (type)                Output Shape              Param #   \n",
      "=================================================================\n",
      " embedding_9 (Embedding)     (None, 50, 50)            184050    \n",
      "                                                                 \n",
      " global_max_pooling1d_9 (Glo  (None, 50)               0         \n",
      " balMaxPooling1D)                                                \n",
      "                                                                 \n",
      " dense_18 (Dense)            (None, 10)                510       \n",
      "                                                                 \n",
      " dense_19 (Dense)            (None, 1)                 11        \n",
      "                                                                 \n",
      "=================================================================\n",
      "Total params: 184,571\n",
      "Trainable params: 184,571\n",
      "Non-trainable params: 0\n",
      "_________________________________________________________________\n"
     ]
    }
   ],
   "source": [
    "model.summary()"
   ]
  },
  {
   "cell_type": "markdown",
   "id": "ff21dc16-bf0d-4ed5-bbb1-4281b80f9e34",
   "metadata": {},
   "source": [
    "## Another Implementation"
   ]
  },
  {
   "cell_type": "code",
   "execution_count": 17,
   "id": "f90d08a4-5747-4d29-9729-4391065387e5",
   "metadata": {},
   "outputs": [
    {
     "name": "stdout",
     "output_type": "stream",
     "text": [
      "text           i have to mention this and it is a huge spoile...\n",
      "total_words                                                   61\n",
      "Name: 1356, dtype: object\n",
      "\n",
      "The longest comment is 61 words.\n",
      "\n"
     ]
    }
   ],
   "source": [
    "df_tr_cleaned['total_words'] = df_tr_cleaned['text'].str.count(' ') + 1\n",
    "\n",
    "#prints the dataframe at the index of it's longest review\n",
    "print(df_tr_cleaned.loc[df_tr_cleaned.total_words.idxmax()])\n",
    "\n",
    "#prints the length of the longest view in the dataset\n",
    "print(\"\\nThe longest comment is \" + str(df_tr_cleaned['total_words'].max()) + \" words.\\n\")"
   ]
  },
  {
   "cell_type": "code",
   "execution_count": 19,
   "id": "436048a2-14bb-4eaa-bceb-859fc091205f",
   "metadata": {},
   "outputs": [
    {
     "data": {
      "image/png": "[encoded data removed]",
      "text/plain": [
       "<Figure size 1080x648 with 1 Axes>"
      ]
     },
     "metadata": {},
     "output_type": "display_data"
    }
   ],
   "source": [
    "# plot word frequency\n",
    "\n",
    "plt.figure(figsize=(15, 9))\n",
    "plt.hist([(df_tr_cleaned['total_words'])],bins=100,color = \"blue\")\n",
    "plt.xlabel('Number of word in a review')\n",
    "plt.ylabel('Frequency')\n",
    "plt.title('Review Words Count Distribution')\n",
    "plt.show()"
   ]
  },
  {
   "cell_type": "code",
   "execution_count": 20,
   "id": "5c86fbdf-fea0-49b1-8fa1-278310617bbd",
   "metadata": {},
   "outputs": [
    {
     "name": "stderr",
     "output_type": "stream",
     "text": [
      "C:\\Users\\Priyanshi_code\\miniconda3\\envs\\ml135_env_sp21\\lib\\site-packages\\sklearn\\utils\\deprecation.py:87: FutureWarning: Function get_feature_names is deprecated; get_feature_names is deprecated in 1.0 and will be removed in 1.2. Please use get_feature_names_out instead.\n",
      "  warnings.warn(msg, category=FutureWarning)\n"
     ]
    },
    {
     "data": {
      "image/png": "[encoded data removed]",
      "text/plain": [
       "<Figure size 1080x1080 with 1 Axes>"
      ]
     },
     "metadata": {},
     "output_type": "display_data"
    }
   ],
   "source": [
    "from sklearn.feature_extraction.text import CountVectorizer\n",
    "vectorizer = CountVectorizer()\n",
    "\n",
    "# transform and vectorize the comments in a sparse matrix. The dimenion length is the number of instances, the width of the matrix is the\n",
    "# number of words in total corpse. The words that are not in the each review is padded with 0, hence the sparse matrix.\n",
    "\n",
    "vect_texts = vectorizer.fit_transform(list(df_tr_cleaned['text']))\n",
    "all_ngrams = vectorizer.get_feature_names()\n",
    "\n",
    "# display top min(50,len(all_ngrams) of the most frequent words\n",
    "num_ngrams = min(50, len(all_ngrams))\n",
    "\n",
    "# count the number of words in the total corpse\n",
    "all_counts = vect_texts.sum(axis=0).tolist()[0]\n",
    "\n",
    "# loop the words(features) with counts using zip function\n",
    "all_ngrams, all_counts = zip(*[(n, c) for c, n in sorted(zip(all_counts, all_ngrams), reverse=True)])\n",
    "\n",
    "ngrams = all_ngrams[:num_ngrams]\n",
    "counts = all_counts[:num_ngrams]\n",
    "\n",
    "idx = np.arange(num_ngrams)\n",
    "\n",
    "# Let's now plot a frequency distribution plot of the most seen words in the corpus.\n",
    "plt.figure(figsize=(15, 15))\n",
    "plt.bar(idx, counts, width=0.8, color = \"blue\")\n",
    "plt.xlabel('N-grams')\n",
    "plt.ylabel('Frequencies')\n",
    "plt.title('Frequency distribution of ngrams')\n",
    "plt.xticks(idx, ngrams, rotation=45)\n",
    "plt.show()"
   ]
  },
  {
   "cell_type": "code",
   "execution_count": 21,
   "id": "43d2aede-7ee2-4b4b-8e94-cd0f8677e765",
   "metadata": {},
   "outputs": [
    {
     "data": {
      "image/png": "[encoded data removed]",
      "text/plain": [
       "<Figure size 1080x1080 with 1 Axes>"
      ]
     },
     "metadata": {},
     "output_type": "display_data"
    }
   ],
   "source": [
    "from nltk.corpus import stopwords\n",
    "from sklearn.feature_extraction.text import TfidfVectorizer\n",
    "from sklearn.feature_selection import SelectKBest, chi2,f_classif, mutual_info_classif\n",
    "\n",
    "# import a list of stopwords, when applied the stopwords in the corpose will not be tokenized, they will be skipped\n",
    "stopwords=stopwords.words('english')\n",
    "\n",
    "# min_df=2, any words that occurs less than 2 times in the total corpse will not be tokenized\n",
    "\n",
    "vectorizer = TfidfVectorizer(min_df=3, binary=True, analyzer='word',ngram_range= (1,2), stop_words=stopwords)\n",
    "df_bigram = vectorizer.fit_transform(df_tr_cleaned['text'])\n",
    "\n",
    "all_ngrams = vectorizer.get_feature_names()\n",
    "\n",
    "# display top min(50,len(all_ngrams) of the most frequent words\n",
    "num_ngrams = min(50, len(all_ngrams))\n",
    "\n",
    "# count the number of words in the total corpse\n",
    "all_counts = df_bigram.sum(axis=0).tolist()[0]\n",
    "\n",
    "# loop the words(features) with counts using zip function\n",
    "all_ngrams, all_counts = zip(*[(n, c) for c, n in sorted(zip(all_counts, all_ngrams), reverse=True)])\n",
    "\n",
    "ngrams = all_ngrams[:num_ngrams]\n",
    "counts = all_counts[:num_ngrams]\n",
    "\n",
    "idx = np.arange(num_ngrams)\n",
    "\n",
    "# Let's now plot a frequency distribution plot of the most seen words in the corpus.\n",
    "plt.figure(figsize=(15, 15))\n",
    "plt.bar(idx, counts, width=0.8, color = \"blue\")\n",
    "plt.xlabel('N-grams')\n",
    "plt.ylabel('Frequencies')\n",
    "plt.title('Frequency distribution of ngrams')\n",
    "plt.xticks(idx, ngrams, rotation=90)\n",
    "plt.show()"
   ]
  },
  {
   "cell_type": "code",
   "execution_count": 22,
   "id": "dfd26b97-198b-4da7-b9ce-d2478cdd53fe",
   "metadata": {},
   "outputs": [],
   "source": [
    "k=26000\n",
    "\n",
    "selector = SelectKBest(chi2, k=min(k, df_bigram.shape[1]))\n",
    "selector.fit(df_bigram, y_train_raw['is_positive_sentiment'])\n",
    "transformed_texts = selector.transform(df_bigram).astype('float32')"
   ]
  },
  {
   "cell_type": "code",
   "execution_count": 23,
   "id": "632d31b9-8953-4f13-9524-29c836a7f502",
   "metadata": {},
   "outputs": [],
   "source": [
    "transformed_texts=transformed_texts.toarray()"
   ]
  },
  {
   "cell_type": "code",
   "execution_count": 24,
   "id": "94606da8-2536-428a-a3b8-18a1994bbe23",
   "metadata": {},
   "outputs": [
    {
     "name": "stdout",
     "output_type": "stream",
     "text": [
      "Fold:  1, Training/Test Split Distribution: [1080 1080], Train Accuracy: 0.988,Test Accuracy: 0.775\n",
      "Fold:  2, Training/Test Split Distribution: [1091 1069], Train Accuracy: 0.987,Test Accuracy: 0.800\n",
      "Fold:  3, Training/Test Split Distribution: [1078 1082], Train Accuracy: 0.987,Test Accuracy: 0.779\n",
      "Fold:  4, Training/Test Split Distribution: [1086 1074], Train Accuracy: 0.989,Test Accuracy: 0.771\n",
      "Fold:  5, Training/Test Split Distribution: [1085 1075], Train Accuracy: 0.989,Test Accuracy: 0.842\n",
      "Fold:  6, Training/Test Split Distribution: [1075 1085], Train Accuracy: 0.989,Test Accuracy: 0.821\n",
      "Fold:  7, Training/Test Split Distribution: [1084 1076], Train Accuracy: 0.989,Test Accuracy: 0.779\n",
      "Fold:  8, Training/Test Split Distribution: [1070 1090], Train Accuracy: 0.988,Test Accuracy: 0.783\n",
      "Fold:  9, Training/Test Split Distribution: [1068 1092], Train Accuracy: 0.989,Test Accuracy: 0.767\n",
      "Fold: 10, Training/Test Split Distribution: [1083 1077], Train Accuracy: 0.987,Test Accuracy: 0.800\n",
      "\n",
      "\n",
      "Cross-Validation accuracy: 0.988 +/- 0.001\n"
     ]
    }
   ],
   "source": [
    "from keras.wrappers.scikit_learn import KerasRegressor\n",
    "from sklearn.model_selection import cross_val_score\n",
    "from keras.models import Sequential\n",
    "from keras.layers import Dense, Dropout\n",
    "from keras.layers import LSTM\n",
    "from keras import optimizers\n",
    "\n",
    "cv = KFold(n_splits=10, random_state=1, shuffle=True)\n",
    "kfold = cv.split(transformed_texts, y_train_raw['is_positive_sentiment'].values)\n",
    "scores = []\n",
    "tr_scores = []\n",
    "for k, (train, test) in enumerate(kfold):\n",
    "    \n",
    "    sentences_train = transformed_texts[train, :]\n",
    "    sentences_test = transformed_texts[test, :]\n",
    "    \n",
    "    labels_train = y_train_raw.iloc[train,:]['is_positive_sentiment']\n",
    "    labels_test = y_train_raw.iloc[test,:]['is_positive_sentiment']\n",
    "    \n",
    "    mf=26000\n",
    "    max_features = min(mf, df_bigram.shape[1])\n",
    "    \n",
    "    model = Sequential()\n",
    "    model.add(Dense(64, input_dim=max_features, activation='relu'))\n",
    "    model.add(Dropout(0.5))\n",
    "    model.add(Dense(64, activation='relu'))\n",
    "    model.add(Dropout(0.5))\n",
    "    model.add(Dense(1, activation='sigmoid'))\n",
    "\n",
    "\n",
    "    model.compile(loss='binary_crossentropy',\n",
    "                  optimizer='RMSprop',\n",
    "                  metrics=['acc'])\n",
    "    \n",
    "    \n",
    "    history = model.fit([sentences_train], labels_train,\n",
    "                    epochs=50,\n",
    "                    verbose=0,\n",
    "                    validation_data=([sentences_test], labels_test),\n",
    "                    batch_size=100)\n",
    "    \n",
    "    loss, tr_accuracy = model.evaluate([sentences_train], labels_train, verbose=False)\n",
    "    # print(\"Training Accuracy: {:.4f}\".format(accuracy))\n",
    "    loss, te_accuracy = model.evaluate([sentences_test], labels_test, verbose=False)\n",
    "    # print(\"Testing Accuracy:  {:.4f}\".format(accuracy))\n",
    "\n",
    "    scores.append(tr_accuracy)\n",
    "    tr_scores.append(te_accuracy)\n",
    "    print('Fold: %2d, Training/Test Split Distribution: %s, Train Accuracy: %.3f,Test Accuracy: %.3f' % (k+1, np.bincount(y_train_raw['is_positive_sentiment'].iloc[train]), tr_accuracy,te_accuracy))\n",
    " \n",
    "print('\\n\\nCross-Validation accuracy: %.3f +/- %.3f' %(np.mean(scores), np.std(scores)))"
   ]
  },
  {
   "cell_type": "code",
   "execution_count": 25,
   "id": "37648e25-e9c0-44b0-a2e2-4bff8a1ec0cc",
   "metadata": {},
   "outputs": [
    {
     "name": "stdout",
     "output_type": "stream",
     "text": [
      "Model: \"sequential_19\"\n",
      "_________________________________________________________________\n",
      " Layer (type)                Output Shape              Param #   \n",
      "=================================================================\n",
      " dense_47 (Dense)            (None, 64)                83072     \n",
      "                                                                 \n",
      " dropout_18 (Dropout)        (None, 64)                0         \n",
      "                                                                 \n",
      " dense_48 (Dense)            (None, 64)                4160      \n",
      "                                                                 \n",
      " dropout_19 (Dropout)        (None, 64)                0         \n",
      "                                                                 \n",
      " dense_49 (Dense)            (None, 1)                 65        \n",
      "                                                                 \n",
      "=================================================================\n",
      "Total params: 87,297\n",
      "Trainable params: 87,297\n",
      "Non-trainable params: 0\n",
      "_________________________________________________________________\n"
     ]
    }
   ],
   "source": [
    "model.summary()"
   ]
  },
  {
   "cell_type": "code",
   "execution_count": 27,
   "id": "632f980d-5660-438f-80a7-427bb1cf782f",
   "metadata": {},
   "outputs": [
    {
     "name": "stdout",
     "output_type": "stream",
     "text": [
      "19/19 [==============================] - 0s 2ms/step\n"
     ]
    }
   ],
   "source": [
    "test_bigram = vectorizer.transform(df_te_cleaned['text'])\n",
    "test_transformed_texts = selector.transform(test_bigram).astype('float32')\n",
    "y_predict = model.predict(test_transformed_texts)"
   ]
  },
  {
   "cell_type": "code",
   "execution_count": 28,
   "id": "4716c192-e97a-41d9-a032-8f56e56f43b0",
   "metadata": {},
   "outputs": [],
   "source": [
    "yproba1_test = y_predict.flatten()\n",
    "np.savetxt('yproba1_test.txt', yproba1_test)"
   ]
  },
  {
   "cell_type": "markdown",
   "id": "4e7cb8d7",
   "metadata": {},
   "source": [
    "## LSTM Implementation"
   ]
  },
  {
   "cell_type": "code",
   "execution_count": null,
   "id": "afc59484",
   "metadata": {},
   "outputs": [],
   "source": [
    "import re\n",
    "import nltk\n",
    "def remove_tags(string):\n",
    "    removelist = \"\"\n",
    "    result = re.sub('','',string)          #remove HTML tags\n",
    "    result = re.sub('https://.*','',result)   #remove URLs\n",
    "    result = result.lower()\n",
    "    return result\n",
    "x_train_raw['text']=x_train_raw['text'].apply(lambda cw : remove_tags(cw))\n",
    "nltk.download('stopwords')\n",
    "from nltk.corpus import stopwords\n",
    "stop_words = set(stopwords.words('english'))\n",
    "x_train_raw['text'] = x_train_raw['text'].apply(lambda x: ' '.join([word for word in x.split() if word not in (stop_words)]))\n",
    "w_tokenizer = nltk.tokenize.WhitespaceTokenizer()\n",
    "lemmatizer = nltk.stem.WordNetLemmatizer()\n",
    "def lemmatize_text(text):\n",
    "    st = \"\"\n",
    "    for w in w_tokenizer.tokenize(text):\n",
    "        st = st + lemmatizer.lemmatize(w) + \" \"\n",
    "    return st\n",
    "x_train_raw['text'] = x_train_raw.text.apply(lemmatize_text)"
   ]
  },
  {
   "cell_type": "code",
   "execution_count": null,
   "id": "de030928",
   "metadata": {},
   "outputs": [],
   "source": [
    "s = 0.0\n",
    "for i in x_train_raw['text']:\n",
    "    word_list = i.split()\n",
    "    s = s + len(word_list)\n",
    "print(\"Average length of each review : \",s/x_train_raw.shape[0])"
   ]
  },
  {
   "cell_type": "code",
   "execution_count": null,
   "id": "a02f174a",
   "metadata": {},
   "outputs": [],
   "source": [
    "reviews = x_train_raw['text'].values\n",
    "labels = y_train_raw['is_positive_sentiment'].values\n",
    "train_sentences, test_sentences, train_labels, test_labels = train_test_split(reviews, labels)"
   ]
  },
  {
   "cell_type": "code",
   "execution_count": null,
   "id": "88fc3380",
   "metadata": {},
   "outputs": [],
   "source": [
    "# Hyperparameters of the model\n",
    "vocab_size = 5000 # choose based on statistics\n",
    "oov_tok = ''\n",
    "embedding_dim = 100\n",
    "max_length = 100 # choose based on statistics, for example 150 to 200\n",
    "padding_type='post'\n",
    "trunc_type='post'\n",
    "# tokenize sentences\n",
    "tokenizer = Tokenizer(num_words = vocab_size, oov_token=oov_tok)\n",
    "tokenizer.fit_on_texts(train_sentences)\n",
    "word_index = tokenizer.word_index\n",
    "# convert train dataset to sequence and pad sequences\n",
    "train_sequences = tokenizer.texts_to_sequences(train_sentences)\n",
    "train_padded = pad_sequences(train_sequences, padding='post', maxlen=max_length)\n",
    "# convert Test dataset to sequence and pad sequences\n",
    "test_sequences = tokenizer.texts_to_sequences(test_sentences)\n",
    "test_padded = pad_sequences(test_sequences, padding='post', maxlen=max_length)"
   ]
  },
  {
   "cell_type": "code",
   "execution_count": null,
   "id": "57a23d3a",
   "metadata": {},
   "outputs": [],
   "source": [
    "import keras\n",
    "# model initialization\n",
    "model = keras.Sequential([\n",
    "    keras.layers.Embedding(vocab_size, embedding_dim, input_length=max_length),\n",
    "    keras.layers.Bidirectional(keras.layers.LSTM(64)),\n",
    "#     keras.layers.GlobalMaxPool1D(),\n",
    "    keras.layers.Dense(24, activation='relu'),\n",
    "    keras.layers.Dense(1, activation='sigmoid')\n",
    "])\n",
    "# compile model\n",
    "model.compile(loss='binary_crossentropy',\n",
    "              optimizer='adam',\n",
    "              metrics=['accuracy'])\n",
    "# model summary\n",
    "model.summary()"
   ]
  },
  {
   "cell_type": "code",
   "execution_count": null,
   "id": "badde5b4",
   "metadata": {},
   "outputs": [],
   "source": [
    "num_epochs = 50\n",
    "history = model.fit(train_padded, train_labels, \n",
    "                    epochs=num_epochs, verbose=1, \n",
    "                    validation_split=0.25)"
   ]
  },
  {
   "cell_type": "markdown",
   "id": "f54c7faa",
   "metadata": {},
   "source": [
    "## Hyperparameter Optimization"
   ]
  },
  {
   "cell_type": "code",
   "execution_count": null,
   "id": "1fe34f7e",
   "metadata": {},
   "outputs": [],
   "source": [
    "from sklearn.model_selection import RandomizedSearchCV\n",
    "from keras.wrappers.scikit_learn import KerasClassifier\n",
    "from keras.layers import Embedding, Flatten, GlobalMaxPool1D"
   ]
  },
  {
   "cell_type": "code",
   "execution_count": null,
   "id": "ad7ba385",
   "metadata": {},
   "outputs": [],
   "source": [
    "def create_model(num_filters, kernel_size, vocab_size, embedding_dim, maxlen):\n",
    "    model = Sequential()\n",
    "    model.add(Embedding(vocab_size, embedding_dim, input_length=maxlen))\n",
    "    model.add(Conv1D(num_filters, kernel_size, activation='relu'))\n",
    "    model.add(GlobalMaxPool1D())\n",
    "    model.add(Dense(10, activation='relu'))\n",
    "    model.add(Dense(1, activation='sigmoid'))\n",
    "    model.compile(optimizer='adam',\n",
    "                  loss='binary_crossentropy',\n",
    "                  metrics=['accuracy'])\n",
    "    return model\n"
   ]
  },
  {
   "cell_type": "code",
   "execution_count": null,
   "id": "ca0e6a76",
   "metadata": {},
   "outputs": [],
   "source": []
  },
  {
   "cell_type": "code",
   "execution_count": null,
   "id": "f4d605e3",
   "metadata": {},
   "outputs": [],
   "source": [
    "param_grid = dict(num_filters=[32, 64, 128],\n",
    "                  kernel_size=[3, 5, 7],\n",
    "                  vocab_size=[5000], \n",
    "                  embedding_dim=[50],\n",
    "                  maxlen=[100])"
   ]
  },
  {
   "cell_type": "code",
   "execution_count": null,
   "id": "62552c1e",
   "metadata": {},
   "outputs": [],
   "source": [
    "epochs = 20\n",
    "embedding_dim = 50\n",
    "maxlen = 100\n",
    "output_file = 'output.txt'\n",
    "\n",
    "print('Running grid search for data set')\n",
    "sentences = x_train_raw['text'].values\n",
    "y = y_train_raw['is_positive_sentiment'].values\n",
    "\n",
    "sentences_train, sentences_test, y_train, y_test = train_test_split(\n",
    "    sentences, y, test_size=0.25, random_state=1000)\n",
    "\n",
    "tokenizer = Tokenizer(num_words=5000)\n",
    "tokenizer.fit_on_texts(sentences_train)\n",
    "X_train = tokenizer.texts_to_sequences(sentences_train)\n",
    "X_test = tokenizer.texts_to_sequences(sentences_test)\n",
    "\n",
    "vocab_size = len(tokenizer.word_index) + 1\n",
    "\n",
    "X_train = pad_sequences(X_train, padding='post', maxlen=maxlen)\n",
    "X_test = pad_sequences(X_test, padding='post', maxlen=maxlen)\n",
    "\n",
    "# Parameter grid for grid search\n",
    "param_grid = dict(num_filters=[32, 64, 128],\n",
    "                  kernel_size=[3, 5, 7],\n",
    "                  vocab_size=[vocab_size],\n",
    "                  embedding_dim=[embedding_dim],\n",
    "                  maxlen=[maxlen])\n",
    "model = KerasClassifier(build_fn=create_model,\n",
    "                        epochs=epochs, batch_size=100,\n",
    "                        verbose=False)\n",
    "grid = RandomizedSearchCV(estimator=model, param_distributions=param_grid,\n",
    "                          cv=4, verbose=1, n_iter=5)\n",
    "grid_result = grid.fit(X_train, y_train)\n",
    "\n",
    "test_accuracy = grid.score(X_test, y_test)\n",
    "\n",
    "s = ('Running data set\\nBest Accuracy : '\n",
    "         '{:.4f}\\n{}\\nTest Accuracy : {:.4f}\\n\\n')\n",
    "output_string = s.format(\n",
    "    grid_result.best_score_,\n",
    "    grid_result.best_params_,\n",
    "    test_accuracy)\n",
    "print(output_string)"
   ]
  }
 ],
 "metadata": {
  "kernelspec": {
   "display_name": "Python 3 (ipykernel)",
   "language": "python",
   "name": "python3"
  },
  "language_info": {
   "codemirror_mode": {
    "name": "ipython",
    "version": 3
   },
   "file_extension": ".py",
   "mimetype": "text/x-python",
   "name": "python",
   "nbconvert_exporter": "python",
   "pygments_lexer": "ipython3",
   "version": "3.9.12"
  }
 },
 "nbformat": 4,
 "nbformat_minor": 5
}
